{
 "cells": [
  {
   "cell_type": "markdown",
   "id": "fdc0d574-ca8a-48f8-bbbe-dad04213a7cc",
   "metadata": {},
   "source": [
    "# Predicting titanic disaster death probability using Machine Learning\n"
   ]
  },
  {
   "cell_type": "markdown",
   "id": "899d87b6-6d0b-4d97-a71c-5d15e6d7f9e6",
   "metadata": {},
   "source": [
    "In this project we will cover whether a person will die or will be alive at titanic disaster"
   ]
  },
  {
   "cell_type": "markdown",
   "id": "943f1f61-3436-4882-8107-f96071b5863c",
   "metadata": {},
   "source": [
    "## 1. Problem Definition\n",
    "> It is your job to predict if a passenger survived the sinking of the Titanic or not.\r",
    "> \n",
    "For each in the test set, you must predict a 0 or 1 value for the variable."
   ]
  },
  {
   "cell_type": "markdown",
   "id": "204f1176-c1fe-4e04-acc0-953d59dfc29d",
   "metadata": {},
   "source": [
    "## 2.Data \n",
    "> The data downloaded from the kaggle Titanic Tutorial competition\n",
    "\n",
    "Overview\r\n",
    "The data has been split into two groups\n",
    "* training set (train.csv)\n",
    "* test set (test.csv)\n",
    "\n",
    "Also for submission there is a example file\n",
    "* gender_submission.csvcsv)"
   ]
  },
  {
   "cell_type": "markdown",
   "id": "9833ad3f-e746-4219-971f-c49c228fe496",
   "metadata": {},
   "source": [
    "## 3.Evaluation\n",
    "> Your score is the percentage of passengers you correctly predict. This is known as accuracy."
   ]
  },
  {
   "cell_type": "markdown",
   "id": "13c1a943-1adf-42d0-9bb6-b326e5271c63",
   "metadata": {},
   "source": [
    "**Project link:** https://www.kaggle.com/competitions/titanic/overview"
   ]
  },
  {
   "cell_type": "code",
   "execution_count": 1,
   "id": "e52b1975-6474-42b0-9da9-2642a0b428f0",
   "metadata": {},
   "outputs": [],
   "source": [
    "import pandas as pd\n",
    "import numpy as np\n",
    "import sklearn\n",
    "import matplotlib.pyplot as plt"
   ]
  },
  {
   "cell_type": "code",
   "execution_count": 2,
   "id": "e01c318b-60f4-4adf-82be-b24e6e37d43f",
   "metadata": {},
   "outputs": [],
   "source": [
    "df_original = pd.read_csv('datas/train.csv')"
   ]
  },
  {
   "cell_type": "code",
   "execution_count": 3,
   "id": "e80a5bfb-8aa4-4b6c-8d8f-0cf6aa27f10b",
   "metadata": {},
   "outputs": [
    {
     "data": {
      "text/html": [
       "<div>\n",
       "<style scoped>\n",
       "    .dataframe tbody tr th:only-of-type {\n",
       "        vertical-align: middle;\n",
       "    }\n",
       "\n",
       "    .dataframe tbody tr th {\n",
       "        vertical-align: top;\n",
       "    }\n",
       "\n",
       "    .dataframe thead th {\n",
       "        text-align: right;\n",
       "    }\n",
       "</style>\n",
       "<table border=\"1\" class=\"dataframe\">\n",
       "  <thead>\n",
       "    <tr style=\"text-align: right;\">\n",
       "      <th></th>\n",
       "      <th>PassengerId</th>\n",
       "      <th>Survived</th>\n",
       "      <th>Pclass</th>\n",
       "      <th>Name</th>\n",
       "      <th>Sex</th>\n",
       "      <th>Age</th>\n",
       "      <th>SibSp</th>\n",
       "      <th>Parch</th>\n",
       "      <th>Ticket</th>\n",
       "      <th>Fare</th>\n",
       "      <th>Cabin</th>\n",
       "      <th>Embarked</th>\n",
       "    </tr>\n",
       "  </thead>\n",
       "  <tbody>\n",
       "    <tr>\n",
       "      <th>0</th>\n",
       "      <td>1</td>\n",
       "      <td>0</td>\n",
       "      <td>3</td>\n",
       "      <td>Braund, Mr. Owen Harris</td>\n",
       "      <td>male</td>\n",
       "      <td>22.0</td>\n",
       "      <td>1</td>\n",
       "      <td>0</td>\n",
       "      <td>A/5 21171</td>\n",
       "      <td>7.2500</td>\n",
       "      <td>NaN</td>\n",
       "      <td>S</td>\n",
       "    </tr>\n",
       "    <tr>\n",
       "      <th>1</th>\n",
       "      <td>2</td>\n",
       "      <td>1</td>\n",
       "      <td>1</td>\n",
       "      <td>Cumings, Mrs. John Bradley (Florence Briggs Th...</td>\n",
       "      <td>female</td>\n",
       "      <td>38.0</td>\n",
       "      <td>1</td>\n",
       "      <td>0</td>\n",
       "      <td>PC 17599</td>\n",
       "      <td>71.2833</td>\n",
       "      <td>C85</td>\n",
       "      <td>C</td>\n",
       "    </tr>\n",
       "    <tr>\n",
       "      <th>2</th>\n",
       "      <td>3</td>\n",
       "      <td>1</td>\n",
       "      <td>3</td>\n",
       "      <td>Heikkinen, Miss. Laina</td>\n",
       "      <td>female</td>\n",
       "      <td>26.0</td>\n",
       "      <td>0</td>\n",
       "      <td>0</td>\n",
       "      <td>STON/O2. 3101282</td>\n",
       "      <td>7.9250</td>\n",
       "      <td>NaN</td>\n",
       "      <td>S</td>\n",
       "    </tr>\n",
       "    <tr>\n",
       "      <th>3</th>\n",
       "      <td>4</td>\n",
       "      <td>1</td>\n",
       "      <td>1</td>\n",
       "      <td>Futrelle, Mrs. Jacques Heath (Lily May Peel)</td>\n",
       "      <td>female</td>\n",
       "      <td>35.0</td>\n",
       "      <td>1</td>\n",
       "      <td>0</td>\n",
       "      <td>113803</td>\n",
       "      <td>53.1000</td>\n",
       "      <td>C123</td>\n",
       "      <td>S</td>\n",
       "    </tr>\n",
       "    <tr>\n",
       "      <th>4</th>\n",
       "      <td>5</td>\n",
       "      <td>0</td>\n",
       "      <td>3</td>\n",
       "      <td>Allen, Mr. William Henry</td>\n",
       "      <td>male</td>\n",
       "      <td>35.0</td>\n",
       "      <td>0</td>\n",
       "      <td>0</td>\n",
       "      <td>373450</td>\n",
       "      <td>8.0500</td>\n",
       "      <td>NaN</td>\n",
       "      <td>S</td>\n",
       "    </tr>\n",
       "    <tr>\n",
       "      <th>5</th>\n",
       "      <td>6</td>\n",
       "      <td>0</td>\n",
       "      <td>3</td>\n",
       "      <td>Moran, Mr. James</td>\n",
       "      <td>male</td>\n",
       "      <td>NaN</td>\n",
       "      <td>0</td>\n",
       "      <td>0</td>\n",
       "      <td>330877</td>\n",
       "      <td>8.4583</td>\n",
       "      <td>NaN</td>\n",
       "      <td>Q</td>\n",
       "    </tr>\n",
       "    <tr>\n",
       "      <th>6</th>\n",
       "      <td>7</td>\n",
       "      <td>0</td>\n",
       "      <td>1</td>\n",
       "      <td>McCarthy, Mr. Timothy J</td>\n",
       "      <td>male</td>\n",
       "      <td>54.0</td>\n",
       "      <td>0</td>\n",
       "      <td>0</td>\n",
       "      <td>17463</td>\n",
       "      <td>51.8625</td>\n",
       "      <td>E46</td>\n",
       "      <td>S</td>\n",
       "    </tr>\n",
       "    <tr>\n",
       "      <th>7</th>\n",
       "      <td>8</td>\n",
       "      <td>0</td>\n",
       "      <td>3</td>\n",
       "      <td>Palsson, Master. Gosta Leonard</td>\n",
       "      <td>male</td>\n",
       "      <td>2.0</td>\n",
       "      <td>3</td>\n",
       "      <td>1</td>\n",
       "      <td>349909</td>\n",
       "      <td>21.0750</td>\n",
       "      <td>NaN</td>\n",
       "      <td>S</td>\n",
       "    </tr>\n",
       "    <tr>\n",
       "      <th>8</th>\n",
       "      <td>9</td>\n",
       "      <td>1</td>\n",
       "      <td>3</td>\n",
       "      <td>Johnson, Mrs. Oscar W (Elisabeth Vilhelmina Berg)</td>\n",
       "      <td>female</td>\n",
       "      <td>27.0</td>\n",
       "      <td>0</td>\n",
       "      <td>2</td>\n",
       "      <td>347742</td>\n",
       "      <td>11.1333</td>\n",
       "      <td>NaN</td>\n",
       "      <td>S</td>\n",
       "    </tr>\n",
       "    <tr>\n",
       "      <th>9</th>\n",
       "      <td>10</td>\n",
       "      <td>1</td>\n",
       "      <td>2</td>\n",
       "      <td>Nasser, Mrs. Nicholas (Adele Achem)</td>\n",
       "      <td>female</td>\n",
       "      <td>14.0</td>\n",
       "      <td>1</td>\n",
       "      <td>0</td>\n",
       "      <td>237736</td>\n",
       "      <td>30.0708</td>\n",
       "      <td>NaN</td>\n",
       "      <td>C</td>\n",
       "    </tr>\n",
       "  </tbody>\n",
       "</table>\n",
       "</div>"
      ],
      "text/plain": [
       "   PassengerId  Survived  Pclass  \\\n",
       "0            1         0       3   \n",
       "1            2         1       1   \n",
       "2            3         1       3   \n",
       "3            4         1       1   \n",
       "4            5         0       3   \n",
       "5            6         0       3   \n",
       "6            7         0       1   \n",
       "7            8         0       3   \n",
       "8            9         1       3   \n",
       "9           10         1       2   \n",
       "\n",
       "                                                Name     Sex   Age  SibSp  \\\n",
       "0                            Braund, Mr. Owen Harris    male  22.0      1   \n",
       "1  Cumings, Mrs. John Bradley (Florence Briggs Th...  female  38.0      1   \n",
       "2                             Heikkinen, Miss. Laina  female  26.0      0   \n",
       "3       Futrelle, Mrs. Jacques Heath (Lily May Peel)  female  35.0      1   \n",
       "4                           Allen, Mr. William Henry    male  35.0      0   \n",
       "5                                   Moran, Mr. James    male   NaN      0   \n",
       "6                            McCarthy, Mr. Timothy J    male  54.0      0   \n",
       "7                     Palsson, Master. Gosta Leonard    male   2.0      3   \n",
       "8  Johnson, Mrs. Oscar W (Elisabeth Vilhelmina Berg)  female  27.0      0   \n",
       "9                Nasser, Mrs. Nicholas (Adele Achem)  female  14.0      1   \n",
       "\n",
       "   Parch            Ticket     Fare Cabin Embarked  \n",
       "0      0         A/5 21171   7.2500   NaN        S  \n",
       "1      0          PC 17599  71.2833   C85        C  \n",
       "2      0  STON/O2. 3101282   7.9250   NaN        S  \n",
       "3      0            113803  53.1000  C123        S  \n",
       "4      0            373450   8.0500   NaN        S  \n",
       "5      0            330877   8.4583   NaN        Q  \n",
       "6      0             17463  51.8625   E46        S  \n",
       "7      1            349909  21.0750   NaN        S  \n",
       "8      2            347742  11.1333   NaN        S  \n",
       "9      0            237736  30.0708   NaN        C  "
      ]
     },
     "execution_count": 3,
     "metadata": {},
     "output_type": "execute_result"
    }
   ],
   "source": [
    "df_original.head(10)"
   ]
  },
  {
   "cell_type": "code",
   "execution_count": 4,
   "id": "7518ac17-333a-452e-a3a3-45f8cf427dcf",
   "metadata": {},
   "outputs": [
    {
     "data": {
      "text/plain": [
       "891"
      ]
     },
     "execution_count": 4,
     "metadata": {},
     "output_type": "execute_result"
    }
   ],
   "source": [
    "len(df_original)"
   ]
  },
  {
   "cell_type": "code",
   "execution_count": 5,
   "id": "48ddcdef-4ee4-49e1-b299-c4ade3c24b02",
   "metadata": {},
   "outputs": [
    {
     "data": {
      "text/plain": [
       "PassengerId      0\n",
       "Survived         0\n",
       "Pclass           0\n",
       "Name             0\n",
       "Sex              0\n",
       "Age            177\n",
       "SibSp            0\n",
       "Parch            0\n",
       "Ticket           0\n",
       "Fare             0\n",
       "Cabin          687\n",
       "Embarked         2\n",
       "dtype: int64"
      ]
     },
     "execution_count": 5,
     "metadata": {},
     "output_type": "execute_result"
    }
   ],
   "source": [
    "df_original.isna().sum()"
   ]
  },
  {
   "cell_type": "code",
   "execution_count": 6,
   "id": "1dcdc879-eaa5-45b9-b96e-d12e9c18c649",
   "metadata": {},
   "outputs": [
    {
     "data": {
      "image/png": "[encoded data removed]",
      "text/plain": [
       "<Figure size 640x480 with 1 Axes>"
      ]
     },
     "metadata": {},
     "output_type": "display_data"
    }
   ],
   "source": [
    "df_original.Survived.value_counts().plot(kind='bar', color=['salmon','lightblue']);"
   ]
  },
  {
   "cell_type": "code",
   "execution_count": 7,
   "id": "64d69d03-3a6f-4da8-9100-bd390085b731",
   "metadata": {},
   "outputs": [
    {
     "data": {
      "image/png": "[encoded data removed]",
      "text/plain": [
       "<Figure size 800x300 with 2 Axes>"
      ]
     },
     "metadata": {},
     "output_type": "display_data"
    }
   ],
   "source": [
    "fig, (ax1, ax2) = plt.subplots(nrows=1, ncols=2,  figsize=(8,3))\n",
    "ax1.bar(['dead', 'survived'] ,df_original.Survived.value_counts(), color=['salmon','lightblue'], width=0.4);\n",
    "ax2.bar(['Male', 'female'], df_original.Sex.value_counts(), color=['salmon','lightblue'], width=0.4);\n"
   ]
  },
  {
   "cell_type": "code",
   "execution_count": 8,
   "id": "dcfd5c79-dc32-4b64-891f-1b8570a45a53",
   "metadata": {},
   "outputs": [
    {
     "data": {
      "text/plain": [
       "<BarContainer object of 2 artists>"
      ]
     },
     "execution_count": 8,
     "metadata": {},
     "output_type": "execute_result"
    },
    {
     "data": {
      "image/png": "[encoded data removed]",
      "text/plain": [
       "<Figure size 800x300 with 2 Axes>"
      ]
     },
     "metadata": {},
     "output_type": "display_data"
    }
   ],
   "source": [
    "fig, (ax1, ax2) = plt.subplots(nrows=1, ncols=2,  figsize=(8,3))\n",
    "\n",
    "male = df_original[df_original['Sex'] == 'male']\n",
    "male_1 = male[male['Survived'] == 1]\n",
    "male_1_len = len(male_1)\n",
    "\n",
    "female = df_original[df_original['Sex'] == 'female']\n",
    "female_1 = female[female['Survived'] == 1]\n",
    "female_1_len = len(female_1)\n",
    "total = male_1_len + female_1_len\n",
    "\n",
    "ratio = {'lab': ['Male', 'Female'],\n",
    "         'values': [male_1_len / total, female_1_len / total]}\n",
    "\n",
    "ratio_df = pd.DataFrame(ratio)\n",
    "ratio_df\n",
    "\n",
    "ax1.bar(['Male', 'female'], df_original.Sex.value_counts(), color=['salmon','lightblue'], width=0.4);\n",
    "ax2.bar(ratio['lab'], ratio['values'], color=['salmon','lightblue'], width=0.4)\n",
    "\n",
    "#ratio_df.plot.bar(x='lab', y='values')"
   ]
  },
  {
   "cell_type": "code",
   "execution_count": 9,
   "id": "cdf717a9-e40f-435c-a5d0-ac3a1cc34a82",
   "metadata": {},
   "outputs": [
    {
     "name": "stdout",
     "output_type": "stream",
     "text": [
      "<class 'pandas.core.frame.DataFrame'>\n",
      "RangeIndex: 891 entries, 0 to 890\n",
      "Data columns (total 12 columns):\n",
      " #   Column       Non-Null Count  Dtype  \n",
      "---  ------       --------------  -----  \n",
      " 0   PassengerId  891 non-null    int64  \n",
      " 1   Survived     891 non-null    int64  \n",
      " 2   Pclass       891 non-null    int64  \n",
      " 3   Name         891 non-null    object \n",
      " 4   Sex          891 non-null    object \n",
      " 5   Age          714 non-null    float64\n",
      " 6   SibSp        891 non-null    int64  \n",
      " 7   Parch        891 non-null    int64  \n",
      " 8   Ticket       891 non-null    object \n",
      " 9   Fare         891 non-null    float64\n",
      " 10  Cabin        204 non-null    object \n",
      " 11  Embarked     889 non-null    object \n",
      "dtypes: float64(2), int64(5), object(5)\n",
      "memory usage: 83.7+ KB\n"
     ]
    }
   ],
   "source": [
    "df_original.info()"
   ]
  },
  {
   "cell_type": "code",
   "execution_count": 10,
   "id": "b5cd4806-1fb7-44ee-af0d-ba326fcd1615",
   "metadata": {},
   "outputs": [
    {
     "data": {
      "text/html": [
       "<div>\n",
       "<style scoped>\n",
       "    .dataframe tbody tr th:only-of-type {\n",
       "        vertical-align: middle;\n",
       "    }\n",
       "\n",
       "    .dataframe tbody tr th {\n",
       "        vertical-align: top;\n",
       "    }\n",
       "\n",
       "    .dataframe thead th {\n",
       "        text-align: right;\n",
       "    }\n",
       "</style>\n",
       "<table border=\"1\" class=\"dataframe\">\n",
       "  <thead>\n",
       "    <tr style=\"text-align: right;\">\n",
       "      <th></th>\n",
       "      <th>PassengerId</th>\n",
       "      <th>Survived</th>\n",
       "      <th>Pclass</th>\n",
       "      <th>Age</th>\n",
       "      <th>SibSp</th>\n",
       "      <th>Parch</th>\n",
       "      <th>Fare</th>\n",
       "    </tr>\n",
       "  </thead>\n",
       "  <tbody>\n",
       "    <tr>\n",
       "      <th>count</th>\n",
       "      <td>891.000000</td>\n",
       "      <td>891.000000</td>\n",
       "      <td>891.000000</td>\n",
       "      <td>714.000000</td>\n",
       "      <td>891.000000</td>\n",
       "      <td>891.000000</td>\n",
       "      <td>891.000000</td>\n",
       "    </tr>\n",
       "    <tr>\n",
       "      <th>mean</th>\n",
       "      <td>446.000000</td>\n",
       "      <td>0.383838</td>\n",
       "      <td>2.308642</td>\n",
       "      <td>29.699118</td>\n",
       "      <td>0.523008</td>\n",
       "      <td>0.381594</td>\n",
       "      <td>32.204208</td>\n",
       "    </tr>\n",
       "    <tr>\n",
       "      <th>std</th>\n",
       "      <td>257.353842</td>\n",
       "      <td>0.486592</td>\n",
       "      <td>0.836071</td>\n",
       "      <td>14.526497</td>\n",
       "      <td>1.102743</td>\n",
       "      <td>0.806057</td>\n",
       "      <td>49.693429</td>\n",
       "    </tr>\n",
       "    <tr>\n",
       "      <th>min</th>\n",
       "      <td>1.000000</td>\n",
       "      <td>0.000000</td>\n",
       "      <td>1.000000</td>\n",
       "      <td>0.420000</td>\n",
       "      <td>0.000000</td>\n",
       "      <td>0.000000</td>\n",
       "      <td>0.000000</td>\n",
       "    </tr>\n",
       "    <tr>\n",
       "      <th>25%</th>\n",
       "      <td>223.500000</td>\n",
       "      <td>0.000000</td>\n",
       "      <td>2.000000</td>\n",
       "      <td>20.125000</td>\n",
       "      <td>0.000000</td>\n",
       "      <td>0.000000</td>\n",
       "      <td>7.910400</td>\n",
       "    </tr>\n",
       "    <tr>\n",
       "      <th>50%</th>\n",
       "      <td>446.000000</td>\n",
       "      <td>0.000000</td>\n",
       "      <td>3.000000</td>\n",
       "      <td>28.000000</td>\n",
       "      <td>0.000000</td>\n",
       "      <td>0.000000</td>\n",
       "      <td>14.454200</td>\n",
       "    </tr>\n",
       "    <tr>\n",
       "      <th>75%</th>\n",
       "      <td>668.500000</td>\n",
       "      <td>1.000000</td>\n",
       "      <td>3.000000</td>\n",
       "      <td>38.000000</td>\n",
       "      <td>1.000000</td>\n",
       "      <td>0.000000</td>\n",
       "      <td>31.000000</td>\n",
       "    </tr>\n",
       "    <tr>\n",
       "      <th>max</th>\n",
       "      <td>891.000000</td>\n",
       "      <td>1.000000</td>\n",
       "      <td>3.000000</td>\n",
       "      <td>80.000000</td>\n",
       "      <td>8.000000</td>\n",
       "      <td>6.000000</td>\n",
       "      <td>512.329200</td>\n",
       "    </tr>\n",
       "  </tbody>\n",
       "</table>\n",
       "</div>"
      ],
      "text/plain": [
       "       PassengerId    Survived      Pclass         Age       SibSp  \\\n",
       "count   891.000000  891.000000  891.000000  714.000000  891.000000   \n",
       "mean    446.000000    0.383838    2.308642   29.699118    0.523008   \n",
       "std     257.353842    0.486592    0.836071   14.526497    1.102743   \n",
       "min       1.000000    0.000000    1.000000    0.420000    0.000000   \n",
       "25%     223.500000    0.000000    2.000000   20.125000    0.000000   \n",
       "50%     446.000000    0.000000    3.000000   28.000000    0.000000   \n",
       "75%     668.500000    1.000000    3.000000   38.000000    1.000000   \n",
       "max     891.000000    1.000000    3.000000   80.000000    8.000000   \n",
       "\n",
       "            Parch        Fare  \n",
       "count  891.000000  891.000000  \n",
       "mean     0.381594   32.204208  \n",
       "std      0.806057   49.693429  \n",
       "min      0.000000    0.000000  \n",
       "25%      0.000000    7.910400  \n",
       "50%      0.000000   14.454200  \n",
       "75%      0.000000   31.000000  \n",
       "max      6.000000  512.329200  "
      ]
     },
     "execution_count": 10,
     "metadata": {},
     "output_type": "execute_result"
    }
   ],
   "source": [
    "df_original.describe()"
   ]
  },
  {
   "cell_type": "markdown",
   "id": "6328bb7b-cf11-4170-a5ee-1f0cee5babb4",
   "metadata": {},
   "source": [
    "### Lets see whether Pclass effect or not"
   ]
  },
  {
   "cell_type": "code",
   "execution_count": 11,
   "id": "4e05a471-1327-48a7-b7e1-81e0b89f57f3",
   "metadata": {},
   "outputs": [
    {
     "data": {
      "text/html": [
       "<div>\n",
       "<style scoped>\n",
       "    .dataframe tbody tr th:only-of-type {\n",
       "        vertical-align: middle;\n",
       "    }\n",
       "\n",
       "    .dataframe tbody tr th {\n",
       "        vertical-align: top;\n",
       "    }\n",
       "\n",
       "    .dataframe thead th {\n",
       "        text-align: right;\n",
       "    }\n",
       "</style>\n",
       "<table border=\"1\" class=\"dataframe\">\n",
       "  <thead>\n",
       "    <tr style=\"text-align: right;\">\n",
       "      <th>Survived</th>\n",
       "      <th>0</th>\n",
       "      <th>1</th>\n",
       "    </tr>\n",
       "    <tr>\n",
       "      <th>Pclass</th>\n",
       "      <th></th>\n",
       "      <th></th>\n",
       "    </tr>\n",
       "  </thead>\n",
       "  <tbody>\n",
       "    <tr>\n",
       "      <th>1</th>\n",
       "      <td>80</td>\n",
       "      <td>136</td>\n",
       "    </tr>\n",
       "    <tr>\n",
       "      <th>2</th>\n",
       "      <td>97</td>\n",
       "      <td>87</td>\n",
       "    </tr>\n",
       "    <tr>\n",
       "      <th>3</th>\n",
       "      <td>372</td>\n",
       "      <td>119</td>\n",
       "    </tr>\n",
       "  </tbody>\n",
       "</table>\n",
       "</div>"
      ],
      "text/plain": [
       "Survived    0    1\n",
       "Pclass            \n",
       "1          80  136\n",
       "2          97   87\n",
       "3         372  119"
      ]
     },
     "execution_count": 11,
     "metadata": {},
     "output_type": "execute_result"
    }
   ],
   "source": [
    "pd.crosstab(index=df_original.Pclass, columns=df_original.Survived)"
   ]
  },
  {
   "cell_type": "markdown",
   "id": "78fed38c-0320-40a1-bec4-f2e458104ff8",
   "metadata": {},
   "source": [
    "Lets see that in plot"
   ]
  },
  {
   "cell_type": "code",
   "execution_count": 12,
   "id": "1b221f27-a8d9-4f54-9ce7-3742d9934e90",
   "metadata": {
    "scrolled": true
   },
   "outputs": [
    {
     "data": {
      "image/png": "[encoded data removed]",
      "text/plain": [
       "<Figure size 640x480 with 1 Axes>"
      ]
     },
     "metadata": {},
     "output_type": "display_data"
    }
   ],
   "source": [
    "pd.crosstab(index=df_original.Pclass, columns=df_original.Survived).plot.bar(color=['salmon','lightblue']);"
   ]
  },
  {
   "cell_type": "markdown",
   "id": "994bb5f4-9c81-4271-9e07-db05722ac390",
   "metadata": {},
   "source": [
    "### lets split the fare column into 3 parts for make it plottable"
   ]
  },
  {
   "cell_type": "code",
   "execution_count": 13,
   "id": "65ea9f52-3603-4026-938b-57ac02c360ce",
   "metadata": {},
   "outputs": [
    {
     "name": "stderr",
     "output_type": "stream",
     "text": [
      "C:\\Users\\Hp\\AppData\\Local\\Temp\\ipykernel_9028\\4019752366.py:3: UserWarning: Boolean Series key will be reindexed to match DataFrame index.\n",
      "  group2 = group2[df_original['Fare'] < 150]\n"
     ]
    },
    {
     "data": {
      "text/plain": [
       "(730, 131, 29)"
      ]
     },
     "execution_count": 13,
     "metadata": {},
     "output_type": "execute_result"
    }
   ],
   "source": [
    "group1 = df_original[df_original['Fare'] < 50]\n",
    "group2 = df_original[50 < df_original['Fare']]\n",
    "group2 = group2[df_original['Fare'] < 150]\n",
    "group3 = df_original[150 < df_original['Fare']]\n",
    "\n",
    "len(group1), len(group2), len(group3) "
   ]
  },
  {
   "cell_type": "code",
   "execution_count": 14,
   "id": "f43fe7bb-59db-4db7-b03e-46892ca050d5",
   "metadata": {},
   "outputs": [],
   "source": [
    "dict = {'group1': [len(group1[group1.Survived == 0]), len(group1[group1.Survived == 1])],\n",
    "        'group2': [len(group2[group2.Survived == 0]), len(group2[group2.Survived == 1])],\n",
    "        'group3': [len(group3[group3.Survived == 0]), len(group3[group3.Survived == 1])],\n",
    "       }"
   ]
  },
  {
   "cell_type": "code",
   "execution_count": 15,
   "id": "1780d0e3-58c7-42dd-abfd-e015ee9325a3",
   "metadata": {},
   "outputs": [
    {
     "data": {
      "text/plain": [
       "<Axes: >"
      ]
     },
     "execution_count": 15,
     "metadata": {},
     "output_type": "execute_result"
    },
    {
     "data": {
      "image/png": "[encoded data removed]",
      "text/plain": [
       "<Figure size 640x480 with 1 Axes>"
      ]
     },
     "metadata": {},
     "output_type": "display_data"
    }
   ],
   "source": [
    "dict_df = pd.DataFrame(dict)\n",
    "dict_df.plot.bar()"
   ]
  },
  {
   "cell_type": "code",
   "execution_count": 16,
   "id": "8284bd03-520e-4c0b-8d13-3ff9a2d69f1a",
   "metadata": {},
   "outputs": [
    {
     "data": {
      "image/png": "[encoded data removed]",
      "text/plain": [
       "<Figure size 640x480 with 1 Axes>"
      ]
     },
     "metadata": {},
     "output_type": "display_data"
    }
   ],
   "source": [
    "df_original.Age.hist();"
   ]
  },
  {
   "cell_type": "code",
   "execution_count": 17,
   "id": "2bd1fc28-a24e-4bc0-914b-c7527fd4f12d",
   "metadata": {},
   "outputs": [],
   "source": [
    "# Just a demonstration of what we do for Name column\n",
    "\n",
    "data = [\n",
    "    \"Cumings, Mrs. John Bradley (Florence Briggs Thayer)\",\n",
    "    \"Heikkinen, Miss. Laina\",\n",
    "    \"Futrelle, Mrs. Jacques Heath (Lily May Peel)\",\n",
    "    \"Allen, Mr. William Henry\",\n",
    "    \"Moran, Mr. James\",\n",
    "    \"McCarthy, Mr. Timothy J\",\n",
    "    \"Palsson, Master. Gosta Leonard\",\n",
    "    \"Johnson, Mrs. Oscar W (Elisabeth Vilhelmina Berg)\"\n",
    "]\n",
    "\n",
    "\n",
    "name1 = []\n",
    "name2 = []\n",
    "name3 = []\n",
    "\n",
    "for entry in data:\n",
    "    parts = entry.split(',')\n",
    "    before_comma = parts[0].strip() \n",
    "    if '.' in parts[1]:\n",
    "        middle_parts = parts[1].split('.', 1)\n",
    "        middle_part = middle_parts[0].strip() + '.'\n",
    "        after_dot = middle_parts[1].strip()\n",
    "    else:\n",
    "        middle_part = parts[1].strip()\n",
    "        after_dot = ''\n",
    "\n",
    "    name1.append(before_comma)\n",
    "    name2.append(middle_part)\n",
    "    name3.append(after_dot)"
   ]
  },
  {
   "cell_type": "code",
   "execution_count": 18,
   "id": "db3f4de1-40f1-4a8b-afa0-c56cf6219778",
   "metadata": {},
   "outputs": [],
   "source": [
    "replika_df = df_original"
   ]
  },
  {
   "cell_type": "code",
   "execution_count": 19,
   "id": "95cd5b9d-75c2-4017-a59f-06d97dd813a6",
   "metadata": {},
   "outputs": [],
   "source": [
    "name1 = []\n",
    "name2 = []\n",
    "name3 = []\n",
    "\n",
    "for entry in replika_df.Name:\n",
    "    parts = entry.split(',')\n",
    "    before_comma = parts[0].strip() \n",
    "    if '.' in parts[1]:\n",
    "        middle_parts = parts[1].split('.', 1)\n",
    "        middle_part = middle_parts[0].strip() + '.'\n",
    "        after_dot = middle_parts[1].strip()\n",
    "    else:\n",
    "        middle_part = parts[1].strip()\n",
    "        after_dot = ''\n",
    "\n",
    "    name1.append(before_comma)\n",
    "    name2.append(middle_part)\n",
    "    name3.append(after_dot)"
   ]
  },
  {
   "cell_type": "code",
   "execution_count": 20,
   "id": "de063798-0545-47a7-a1d6-26ff80b6cebe",
   "metadata": {},
   "outputs": [],
   "source": [
    "replika_df.drop('Name', inplace=True, axis=1)"
   ]
  },
  {
   "cell_type": "code",
   "execution_count": 21,
   "id": "dc92b89b-d907-4e6e-ad52-705acea25260",
   "metadata": {},
   "outputs": [],
   "source": [
    "replika_df['Name1'] = name1\n",
    "replika_df['Name2'] = name2\n",
    "replika_df['Name3'] = name3"
   ]
  },
  {
   "cell_type": "code",
   "execution_count": null,
   "id": "661ced29-84df-4f33-93cc-b382f585846d",
   "metadata": {},
   "outputs": [],
   "source": []
  },
  {
   "cell_type": "code",
   "execution_count": 22,
   "id": "e9041ed5-b12f-46dc-81ef-177f3c31e449",
   "metadata": {},
   "outputs": [],
   "source": [
    "def categorize_title(title):\n",
    "    if title in ['Mr.', 'Mrs.', 'Ms.', 'Miss.']:\n",
    "        return 'Commoner'\n",
    "    elif title in ['Master.', 'Don.', 'Lady.', 'Sir.', 'Jonkheer.', 'Dona.']:\n",
    "        return 'Nobility'\n",
    "    elif title in ['Rev.', 'Dr.', 'Major.', 'Col.', 'Capt.']:\n",
    "        return 'Professional'\n",
    "    elif title in ['Mme.', 'Mlle.']:\n",
    "        return 'Royalty'\n",
    "    else:\n",
    "        return np.nan\n",
    "\n",
    "replika_df['TitleGroup'] = replika_df['Name2'].apply(categorize_title)"
   ]
  },
  {
   "cell_type": "code",
   "execution_count": null,
   "id": "db558c4d-34d0-44f6-a59e-a4a823bfb56d",
   "metadata": {},
   "outputs": [],
   "source": []
  },
  {
   "cell_type": "code",
   "execution_count": 23,
   "id": "4fa22d36-3b67-4106-aebd-1b314c205ef3",
   "metadata": {},
   "outputs": [
    {
     "name": "stdout",
     "output_type": "stream",
     "text": [
      "<class 'pandas.core.frame.DataFrame'>\n",
      "RangeIndex: 891 entries, 0 to 890\n",
      "Data columns (total 15 columns):\n",
      " #   Column       Non-Null Count  Dtype  \n",
      "---  ------       --------------  -----  \n",
      " 0   PassengerId  891 non-null    int64  \n",
      " 1   Survived     891 non-null    int64  \n",
      " 2   Pclass       891 non-null    int64  \n",
      " 3   Sex          891 non-null    object \n",
      " 4   Age          714 non-null    float64\n",
      " 5   SibSp        891 non-null    int64  \n",
      " 6   Parch        891 non-null    int64  \n",
      " 7   Ticket       891 non-null    object \n",
      " 8   Fare         891 non-null    float64\n",
      " 9   Cabin        204 non-null    object \n",
      " 10  Embarked     889 non-null    object \n",
      " 11  Name1        891 non-null    object \n",
      " 12  Name2        891 non-null    object \n",
      " 13  Name3        891 non-null    object \n",
      " 14  TitleGroup   890 non-null    object \n",
      "dtypes: float64(2), int64(5), object(8)\n",
      "memory usage: 104.5+ KB\n"
     ]
    }
   ],
   "source": [
    "replika_df.info()"
   ]
  },
  {
   "cell_type": "code",
   "execution_count": 24,
   "id": "0ace6aff-2ebc-4b48-8b2a-0201b2583c17",
   "metadata": {},
   "outputs": [],
   "source": [
    "def split_cabin_number(cabines):\n",
    "    cabin_list=[]\n",
    "    for cabin in cabines:\n",
    "        if pd.notna(cabin):\n",
    "            cabin_name=list(cabin)\n",
    "            cabin_list.append(cabin_name[0])\n",
    "        else:\n",
    "            cabin_list.append(cabin)\n",
    "    return cabin_list\n",
    "replika_df['cabin_class']=split_cabin_number(replika_df.Cabin)\n"
   ]
  },
  {
   "cell_type": "code",
   "execution_count": 25,
   "id": "c9b9dc29-c19f-4b42-9d83-caf197fd3ae4",
   "metadata": {},
   "outputs": [
    {
     "data": {
      "text/html": [
       "<div>\n",
       "<style scoped>\n",
       "    .dataframe tbody tr th:only-of-type {\n",
       "        vertical-align: middle;\n",
       "    }\n",
       "\n",
       "    .dataframe tbody tr th {\n",
       "        vertical-align: top;\n",
       "    }\n",
       "\n",
       "    .dataframe thead th {\n",
       "        text-align: right;\n",
       "    }\n",
       "</style>\n",
       "<table border=\"1\" class=\"dataframe\">\n",
       "  <thead>\n",
       "    <tr style=\"text-align: right;\">\n",
       "      <th></th>\n",
       "      <th>PassengerId</th>\n",
       "      <th>Survived</th>\n",
       "      <th>Pclass</th>\n",
       "      <th>Sex</th>\n",
       "      <th>Age</th>\n",
       "      <th>SibSp</th>\n",
       "      <th>Parch</th>\n",
       "      <th>Ticket</th>\n",
       "      <th>Fare</th>\n",
       "      <th>Cabin</th>\n",
       "      <th>Embarked</th>\n",
       "      <th>Name1</th>\n",
       "      <th>Name2</th>\n",
       "      <th>Name3</th>\n",
       "      <th>TitleGroup</th>\n",
       "      <th>cabin_class</th>\n",
       "    </tr>\n",
       "  </thead>\n",
       "  <tbody>\n",
       "    <tr>\n",
       "      <th>0</th>\n",
       "      <td>1</td>\n",
       "      <td>0</td>\n",
       "      <td>3</td>\n",
       "      <td>male</td>\n",
       "      <td>22.0</td>\n",
       "      <td>1</td>\n",
       "      <td>0</td>\n",
       "      <td>A/5 21171</td>\n",
       "      <td>7.2500</td>\n",
       "      <td>NaN</td>\n",
       "      <td>S</td>\n",
       "      <td>Braund</td>\n",
       "      <td>Mr.</td>\n",
       "      <td>Owen Harris</td>\n",
       "      <td>Commoner</td>\n",
       "      <td>NaN</td>\n",
       "    </tr>\n",
       "    <tr>\n",
       "      <th>1</th>\n",
       "      <td>2</td>\n",
       "      <td>1</td>\n",
       "      <td>1</td>\n",
       "      <td>female</td>\n",
       "      <td>38.0</td>\n",
       "      <td>1</td>\n",
       "      <td>0</td>\n",
       "      <td>PC 17599</td>\n",
       "      <td>71.2833</td>\n",
       "      <td>C85</td>\n",
       "      <td>C</td>\n",
       "      <td>Cumings</td>\n",
       "      <td>Mrs.</td>\n",
       "      <td>John Bradley (Florence Briggs Thayer)</td>\n",
       "      <td>Commoner</td>\n",
       "      <td>C</td>\n",
       "    </tr>\n",
       "    <tr>\n",
       "      <th>2</th>\n",
       "      <td>3</td>\n",
       "      <td>1</td>\n",
       "      <td>3</td>\n",
       "      <td>female</td>\n",
       "      <td>26.0</td>\n",
       "      <td>0</td>\n",
       "      <td>0</td>\n",
       "      <td>STON/O2. 3101282</td>\n",
       "      <td>7.9250</td>\n",
       "      <td>NaN</td>\n",
       "      <td>S</td>\n",
       "      <td>Heikkinen</td>\n",
       "      <td>Miss.</td>\n",
       "      <td>Laina</td>\n",
       "      <td>Commoner</td>\n",
       "      <td>NaN</td>\n",
       "    </tr>\n",
       "    <tr>\n",
       "      <th>3</th>\n",
       "      <td>4</td>\n",
       "      <td>1</td>\n",
       "      <td>1</td>\n",
       "      <td>female</td>\n",
       "      <td>35.0</td>\n",
       "      <td>1</td>\n",
       "      <td>0</td>\n",
       "      <td>113803</td>\n",
       "      <td>53.1000</td>\n",
       "      <td>C123</td>\n",
       "      <td>S</td>\n",
       "      <td>Futrelle</td>\n",
       "      <td>Mrs.</td>\n",
       "      <td>Jacques Heath (Lily May Peel)</td>\n",
       "      <td>Commoner</td>\n",
       "      <td>C</td>\n",
       "    </tr>\n",
       "    <tr>\n",
       "      <th>4</th>\n",
       "      <td>5</td>\n",
       "      <td>0</td>\n",
       "      <td>3</td>\n",
       "      <td>male</td>\n",
       "      <td>35.0</td>\n",
       "      <td>0</td>\n",
       "      <td>0</td>\n",
       "      <td>373450</td>\n",
       "      <td>8.0500</td>\n",
       "      <td>NaN</td>\n",
       "      <td>S</td>\n",
       "      <td>Allen</td>\n",
       "      <td>Mr.</td>\n",
       "      <td>William Henry</td>\n",
       "      <td>Commoner</td>\n",
       "      <td>NaN</td>\n",
       "    </tr>\n",
       "    <tr>\n",
       "      <th>5</th>\n",
       "      <td>6</td>\n",
       "      <td>0</td>\n",
       "      <td>3</td>\n",
       "      <td>male</td>\n",
       "      <td>NaN</td>\n",
       "      <td>0</td>\n",
       "      <td>0</td>\n",
       "      <td>330877</td>\n",
       "      <td>8.4583</td>\n",
       "      <td>NaN</td>\n",
       "      <td>Q</td>\n",
       "      <td>Moran</td>\n",
       "      <td>Mr.</td>\n",
       "      <td>James</td>\n",
       "      <td>Commoner</td>\n",
       "      <td>NaN</td>\n",
       "    </tr>\n",
       "    <tr>\n",
       "      <th>6</th>\n",
       "      <td>7</td>\n",
       "      <td>0</td>\n",
       "      <td>1</td>\n",
       "      <td>male</td>\n",
       "      <td>54.0</td>\n",
       "      <td>0</td>\n",
       "      <td>0</td>\n",
       "      <td>17463</td>\n",
       "      <td>51.8625</td>\n",
       "      <td>E46</td>\n",
       "      <td>S</td>\n",
       "      <td>McCarthy</td>\n",
       "      <td>Mr.</td>\n",
       "      <td>Timothy J</td>\n",
       "      <td>Commoner</td>\n",
       "      <td>E</td>\n",
       "    </tr>\n",
       "    <tr>\n",
       "      <th>7</th>\n",
       "      <td>8</td>\n",
       "      <td>0</td>\n",
       "      <td>3</td>\n",
       "      <td>male</td>\n",
       "      <td>2.0</td>\n",
       "      <td>3</td>\n",
       "      <td>1</td>\n",
       "      <td>349909</td>\n",
       "      <td>21.0750</td>\n",
       "      <td>NaN</td>\n",
       "      <td>S</td>\n",
       "      <td>Palsson</td>\n",
       "      <td>Master.</td>\n",
       "      <td>Gosta Leonard</td>\n",
       "      <td>Nobility</td>\n",
       "      <td>NaN</td>\n",
       "    </tr>\n",
       "    <tr>\n",
       "      <th>8</th>\n",
       "      <td>9</td>\n",
       "      <td>1</td>\n",
       "      <td>3</td>\n",
       "      <td>female</td>\n",
       "      <td>27.0</td>\n",
       "      <td>0</td>\n",
       "      <td>2</td>\n",
       "      <td>347742</td>\n",
       "      <td>11.1333</td>\n",
       "      <td>NaN</td>\n",
       "      <td>S</td>\n",
       "      <td>Johnson</td>\n",
       "      <td>Mrs.</td>\n",
       "      <td>Oscar W (Elisabeth Vilhelmina Berg)</td>\n",
       "      <td>Commoner</td>\n",
       "      <td>NaN</td>\n",
       "    </tr>\n",
       "    <tr>\n",
       "      <th>9</th>\n",
       "      <td>10</td>\n",
       "      <td>1</td>\n",
       "      <td>2</td>\n",
       "      <td>female</td>\n",
       "      <td>14.0</td>\n",
       "      <td>1</td>\n",
       "      <td>0</td>\n",
       "      <td>237736</td>\n",
       "      <td>30.0708</td>\n",
       "      <td>NaN</td>\n",
       "      <td>C</td>\n",
       "      <td>Nasser</td>\n",
       "      <td>Mrs.</td>\n",
       "      <td>Nicholas (Adele Achem)</td>\n",
       "      <td>Commoner</td>\n",
       "      <td>NaN</td>\n",
       "    </tr>\n",
       "  </tbody>\n",
       "</table>\n",
       "</div>"
      ],
      "text/plain": [
       "   PassengerId  Survived  Pclass     Sex   Age  SibSp  Parch  \\\n",
       "0            1         0       3    male  22.0      1      0   \n",
       "1            2         1       1  female  38.0      1      0   \n",
       "2            3         1       3  female  26.0      0      0   \n",
       "3            4         1       1  female  35.0      1      0   \n",
       "4            5         0       3    male  35.0      0      0   \n",
       "5            6         0       3    male   NaN      0      0   \n",
       "6            7         0       1    male  54.0      0      0   \n",
       "7            8         0       3    male   2.0      3      1   \n",
       "8            9         1       3  female  27.0      0      2   \n",
       "9           10         1       2  female  14.0      1      0   \n",
       "\n",
       "             Ticket     Fare Cabin Embarked      Name1    Name2  \\\n",
       "0         A/5 21171   7.2500   NaN        S     Braund      Mr.   \n",
       "1          PC 17599  71.2833   C85        C    Cumings     Mrs.   \n",
       "2  STON/O2. 3101282   7.9250   NaN        S  Heikkinen    Miss.   \n",
       "3            113803  53.1000  C123        S   Futrelle     Mrs.   \n",
       "4            373450   8.0500   NaN        S      Allen      Mr.   \n",
       "5            330877   8.4583   NaN        Q      Moran      Mr.   \n",
       "6             17463  51.8625   E46        S   McCarthy      Mr.   \n",
       "7            349909  21.0750   NaN        S    Palsson  Master.   \n",
       "8            347742  11.1333   NaN        S    Johnson     Mrs.   \n",
       "9            237736  30.0708   NaN        C     Nasser     Mrs.   \n",
       "\n",
       "                                   Name3 TitleGroup cabin_class  \n",
       "0                            Owen Harris   Commoner         NaN  \n",
       "1  John Bradley (Florence Briggs Thayer)   Commoner           C  \n",
       "2                                  Laina   Commoner         NaN  \n",
       "3          Jacques Heath (Lily May Peel)   Commoner           C  \n",
       "4                          William Henry   Commoner         NaN  \n",
       "5                                  James   Commoner         NaN  \n",
       "6                              Timothy J   Commoner           E  \n",
       "7                          Gosta Leonard   Nobility         NaN  \n",
       "8    Oscar W (Elisabeth Vilhelmina Berg)   Commoner         NaN  \n",
       "9                 Nicholas (Adele Achem)   Commoner         NaN  "
      ]
     },
     "execution_count": 25,
     "metadata": {},
     "output_type": "execute_result"
    }
   ],
   "source": [
    "replika_df.head(10)"
   ]
  },
  {
   "cell_type": "code",
   "execution_count": 26,
   "id": "4c908c06-3da9-49bf-97a1-a00189b7ac9e",
   "metadata": {},
   "outputs": [],
   "source": [
    "# Use label encoder to transform TitleGroup\n",
    "from sklearn.preprocessing import LabelEncoder\n",
    "le = LabelEncoder()\n",
    "# Let's create another repl'ca df\n",
    "replika_df2 = replika_df"
   ]
  },
  {
   "cell_type": "code",
   "execution_count": 27,
   "id": "392062b9-e263-4069-b0fd-f85ca42f79b0",
   "metadata": {},
   "outputs": [],
   "source": [
    "replika_df['TitleGroup'] = le.fit_transform(replika_df['TitleGroup'])"
   ]
  },
  {
   "cell_type": "code",
   "execution_count": 28,
   "id": "040e6a49-af65-4207-825b-30d997894532",
   "metadata": {},
   "outputs": [
    {
     "data": {
      "text/html": [
       "<div>\n",
       "<style scoped>\n",
       "    .dataframe tbody tr th:only-of-type {\n",
       "        vertical-align: middle;\n",
       "    }\n",
       "\n",
       "    .dataframe tbody tr th {\n",
       "        vertical-align: top;\n",
       "    }\n",
       "\n",
       "    .dataframe thead th {\n",
       "        text-align: right;\n",
       "    }\n",
       "</style>\n",
       "<table border=\"1\" class=\"dataframe\">\n",
       "  <thead>\n",
       "    <tr style=\"text-align: right;\">\n",
       "      <th>Survived</th>\n",
       "      <th>0</th>\n",
       "      <th>1</th>\n",
       "    </tr>\n",
       "    <tr>\n",
       "      <th>TitleGroup</th>\n",
       "      <th></th>\n",
       "      <th></th>\n",
       "    </tr>\n",
       "  </thead>\n",
       "  <tbody>\n",
       "    <tr>\n",
       "      <th>0</th>\n",
       "      <td>517</td>\n",
       "      <td>308</td>\n",
       "    </tr>\n",
       "    <tr>\n",
       "      <th>1</th>\n",
       "      <td>19</td>\n",
       "      <td>25</td>\n",
       "    </tr>\n",
       "    <tr>\n",
       "      <th>2</th>\n",
       "      <td>13</td>\n",
       "      <td>5</td>\n",
       "    </tr>\n",
       "    <tr>\n",
       "      <th>3</th>\n",
       "      <td>0</td>\n",
       "      <td>3</td>\n",
       "    </tr>\n",
       "    <tr>\n",
       "      <th>4</th>\n",
       "      <td>0</td>\n",
       "      <td>1</td>\n",
       "    </tr>\n",
       "  </tbody>\n",
       "</table>\n",
       "</div>"
      ],
      "text/plain": [
       "Survived      0    1\n",
       "TitleGroup          \n",
       "0           517  308\n",
       "1            19   25\n",
       "2            13    5\n",
       "3             0    3\n",
       "4             0    1"
      ]
     },
     "execution_count": 28,
     "metadata": {},
     "output_type": "execute_result"
    }
   ],
   "source": [
    "pd.crosstab(index=replika_df.TitleGroup, columns=replika_df.Survived)"
   ]
  },
  {
   "cell_type": "code",
   "execution_count": 29,
   "id": "a04963da-6d15-4875-a7be-2a179a88d5f0",
   "metadata": {},
   "outputs": [],
   "source": [
    "# Let's get rid of unwanted columns\n",
    "replika_df.drop('Name3', axis=1, inplace=True)\n",
    "replika_df.drop('Name1', axis=1, inplace=True)\n",
    "replika_df.drop('Cabin', axis=1, inplace=True)\n",
    "replika_df.drop('Ticket', axis=1, inplace=True)\n"
   ]
  },
  {
   "cell_type": "code",
   "execution_count": 30,
   "id": "e88d8047-5328-4b2b-b437-19641254ef3d",
   "metadata": {},
   "outputs": [
    {
     "data": {
      "text/html": [
       "<div>\n",
       "<style scoped>\n",
       "    .dataframe tbody tr th:only-of-type {\n",
       "        vertical-align: middle;\n",
       "    }\n",
       "\n",
       "    .dataframe tbody tr th {\n",
       "        vertical-align: top;\n",
       "    }\n",
       "\n",
       "    .dataframe thead th {\n",
       "        text-align: right;\n",
       "    }\n",
       "</style>\n",
       "<table border=\"1\" class=\"dataframe\">\n",
       "  <thead>\n",
       "    <tr style=\"text-align: right;\">\n",
       "      <th></th>\n",
       "      <th>PassengerId</th>\n",
       "      <th>Survived</th>\n",
       "      <th>Pclass</th>\n",
       "      <th>Sex</th>\n",
       "      <th>Age</th>\n",
       "      <th>SibSp</th>\n",
       "      <th>Parch</th>\n",
       "      <th>Fare</th>\n",
       "      <th>Embarked</th>\n",
       "      <th>Name2</th>\n",
       "      <th>TitleGroup</th>\n",
       "      <th>cabin_class</th>\n",
       "    </tr>\n",
       "  </thead>\n",
       "  <tbody>\n",
       "    <tr>\n",
       "      <th>0</th>\n",
       "      <td>1</td>\n",
       "      <td>0</td>\n",
       "      <td>3</td>\n",
       "      <td>male</td>\n",
       "      <td>22.0</td>\n",
       "      <td>1</td>\n",
       "      <td>0</td>\n",
       "      <td>7.2500</td>\n",
       "      <td>S</td>\n",
       "      <td>Mr.</td>\n",
       "      <td>0</td>\n",
       "      <td>NaN</td>\n",
       "    </tr>\n",
       "    <tr>\n",
       "      <th>1</th>\n",
       "      <td>2</td>\n",
       "      <td>1</td>\n",
       "      <td>1</td>\n",
       "      <td>female</td>\n",
       "      <td>38.0</td>\n",
       "      <td>1</td>\n",
       "      <td>0</td>\n",
       "      <td>71.2833</td>\n",
       "      <td>C</td>\n",
       "      <td>Mrs.</td>\n",
       "      <td>0</td>\n",
       "      <td>C</td>\n",
       "    </tr>\n",
       "    <tr>\n",
       "      <th>2</th>\n",
       "      <td>3</td>\n",
       "      <td>1</td>\n",
       "      <td>3</td>\n",
       "      <td>female</td>\n",
       "      <td>26.0</td>\n",
       "      <td>0</td>\n",
       "      <td>0</td>\n",
       "      <td>7.9250</td>\n",
       "      <td>S</td>\n",
       "      <td>Miss.</td>\n",
       "      <td>0</td>\n",
       "      <td>NaN</td>\n",
       "    </tr>\n",
       "    <tr>\n",
       "      <th>3</th>\n",
       "      <td>4</td>\n",
       "      <td>1</td>\n",
       "      <td>1</td>\n",
       "      <td>female</td>\n",
       "      <td>35.0</td>\n",
       "      <td>1</td>\n",
       "      <td>0</td>\n",
       "      <td>53.1000</td>\n",
       "      <td>S</td>\n",
       "      <td>Mrs.</td>\n",
       "      <td>0</td>\n",
       "      <td>C</td>\n",
       "    </tr>\n",
       "    <tr>\n",
       "      <th>4</th>\n",
       "      <td>5</td>\n",
       "      <td>0</td>\n",
       "      <td>3</td>\n",
       "      <td>male</td>\n",
       "      <td>35.0</td>\n",
       "      <td>0</td>\n",
       "      <td>0</td>\n",
       "      <td>8.0500</td>\n",
       "      <td>S</td>\n",
       "      <td>Mr.</td>\n",
       "      <td>0</td>\n",
       "      <td>NaN</td>\n",
       "    </tr>\n",
       "    <tr>\n",
       "      <th>...</th>\n",
       "      <td>...</td>\n",
       "      <td>...</td>\n",
       "      <td>...</td>\n",
       "      <td>...</td>\n",
       "      <td>...</td>\n",
       "      <td>...</td>\n",
       "      <td>...</td>\n",
       "      <td>...</td>\n",
       "      <td>...</td>\n",
       "      <td>...</td>\n",
       "      <td>...</td>\n",
       "      <td>...</td>\n",
       "    </tr>\n",
       "    <tr>\n",
       "      <th>185</th>\n",
       "      <td>186</td>\n",
       "      <td>0</td>\n",
       "      <td>1</td>\n",
       "      <td>male</td>\n",
       "      <td>NaN</td>\n",
       "      <td>0</td>\n",
       "      <td>0</td>\n",
       "      <td>50.0000</td>\n",
       "      <td>S</td>\n",
       "      <td>Mr.</td>\n",
       "      <td>0</td>\n",
       "      <td>A</td>\n",
       "    </tr>\n",
       "    <tr>\n",
       "      <th>186</th>\n",
       "      <td>187</td>\n",
       "      <td>1</td>\n",
       "      <td>3</td>\n",
       "      <td>female</td>\n",
       "      <td>NaN</td>\n",
       "      <td>1</td>\n",
       "      <td>0</td>\n",
       "      <td>15.5000</td>\n",
       "      <td>Q</td>\n",
       "      <td>Mrs.</td>\n",
       "      <td>0</td>\n",
       "      <td>NaN</td>\n",
       "    </tr>\n",
       "    <tr>\n",
       "      <th>187</th>\n",
       "      <td>188</td>\n",
       "      <td>1</td>\n",
       "      <td>1</td>\n",
       "      <td>male</td>\n",
       "      <td>45.0</td>\n",
       "      <td>0</td>\n",
       "      <td>0</td>\n",
       "      <td>26.5500</td>\n",
       "      <td>S</td>\n",
       "      <td>Mr.</td>\n",
       "      <td>0</td>\n",
       "      <td>NaN</td>\n",
       "    </tr>\n",
       "    <tr>\n",
       "      <th>188</th>\n",
       "      <td>189</td>\n",
       "      <td>0</td>\n",
       "      <td>3</td>\n",
       "      <td>male</td>\n",
       "      <td>40.0</td>\n",
       "      <td>1</td>\n",
       "      <td>1</td>\n",
       "      <td>15.5000</td>\n",
       "      <td>Q</td>\n",
       "      <td>Mr.</td>\n",
       "      <td>0</td>\n",
       "      <td>NaN</td>\n",
       "    </tr>\n",
       "    <tr>\n",
       "      <th>189</th>\n",
       "      <td>190</td>\n",
       "      <td>0</td>\n",
       "      <td>3</td>\n",
       "      <td>male</td>\n",
       "      <td>36.0</td>\n",
       "      <td>0</td>\n",
       "      <td>0</td>\n",
       "      <td>7.8958</td>\n",
       "      <td>S</td>\n",
       "      <td>Mr.</td>\n",
       "      <td>0</td>\n",
       "      <td>NaN</td>\n",
       "    </tr>\n",
       "  </tbody>\n",
       "</table>\n",
       "<p>190 rows × 12 columns</p>\n",
       "</div>"
      ],
      "text/plain": [
       "     PassengerId  Survived  Pclass     Sex   Age  SibSp  Parch     Fare  \\\n",
       "0              1         0       3    male  22.0      1      0   7.2500   \n",
       "1              2         1       1  female  38.0      1      0  71.2833   \n",
       "2              3         1       3  female  26.0      0      0   7.9250   \n",
       "3              4         1       1  female  35.0      1      0  53.1000   \n",
       "4              5         0       3    male  35.0      0      0   8.0500   \n",
       "..           ...       ...     ...     ...   ...    ...    ...      ...   \n",
       "185          186         0       1    male   NaN      0      0  50.0000   \n",
       "186          187         1       3  female   NaN      1      0  15.5000   \n",
       "187          188         1       1    male  45.0      0      0  26.5500   \n",
       "188          189         0       3    male  40.0      1      1  15.5000   \n",
       "189          190         0       3    male  36.0      0      0   7.8958   \n",
       "\n",
       "    Embarked  Name2  TitleGroup cabin_class  \n",
       "0          S    Mr.           0         NaN  \n",
       "1          C   Mrs.           0           C  \n",
       "2          S  Miss.           0         NaN  \n",
       "3          S   Mrs.           0           C  \n",
       "4          S    Mr.           0         NaN  \n",
       "..       ...    ...         ...         ...  \n",
       "185        S    Mr.           0           A  \n",
       "186        Q   Mrs.           0         NaN  \n",
       "187        S    Mr.           0         NaN  \n",
       "188        Q    Mr.           0         NaN  \n",
       "189        S    Mr.           0         NaN  \n",
       "\n",
       "[190 rows x 12 columns]"
      ]
     },
     "execution_count": 30,
     "metadata": {},
     "output_type": "execute_result"
    }
   ],
   "source": [
    "replika_df.head(190)"
   ]
  },
  {
   "cell_type": "code",
   "execution_count": 31,
   "id": "1b364caa-1efb-405c-aca5-40fe765bf474",
   "metadata": {},
   "outputs": [
    {
     "data": {
      "text/plain": [
       "PassengerId      0\n",
       "Survived         0\n",
       "Pclass           0\n",
       "Sex              0\n",
       "Age            177\n",
       "SibSp            0\n",
       "Parch            0\n",
       "Fare             0\n",
       "Embarked         2\n",
       "Name2            0\n",
       "TitleGroup       0\n",
       "cabin_class    687\n",
       "dtype: int64"
      ]
     },
     "execution_count": 31,
     "metadata": {},
     "output_type": "execute_result"
    }
   ],
   "source": [
    "replika_df.isna().sum()"
   ]
  },
  {
   "cell_type": "code",
   "execution_count": 32,
   "id": "b58db30a-3146-4d5b-8862-8c4bfa930519",
   "metadata": {},
   "outputs": [],
   "source": [
    "# Here we add an column for make it seeneable when cabin class column is empty or not\n",
    "replika_df['cabin_class_ismissing'] = pd.isnull(replika_df['cabin_class'])\n",
    "replika_df['cabin_class'] = replika_df['cabin_class'].fillna('missing')\n"
   ]
  },
  {
   "cell_type": "code",
   "execution_count": 33,
   "id": "9c1da8a3-fac0-4f63-90aa-6568dab78c8b",
   "metadata": {},
   "outputs": [
    {
     "data": {
      "text/plain": [
       "cabin_class_ismissing\n",
       "True     687\n",
       "False    204\n",
       "Name: count, dtype: int64"
      ]
     },
     "execution_count": 33,
     "metadata": {},
     "output_type": "execute_result"
    }
   ],
   "source": [
    "replika_df.cabin_class_ismissing.value_counts()"
   ]
  },
  {
   "cell_type": "code",
   "execution_count": 34,
   "id": "a00d6dcf-7344-47f9-955d-7e51e3267309",
   "metadata": {},
   "outputs": [
    {
     "name": "stdout",
     "output_type": "stream",
     "text": [
      "<class 'pandas.core.frame.DataFrame'>\n",
      "RangeIndex: 891 entries, 0 to 890\n",
      "Data columns (total 13 columns):\n",
      " #   Column                 Non-Null Count  Dtype  \n",
      "---  ------                 --------------  -----  \n",
      " 0   PassengerId            891 non-null    int64  \n",
      " 1   Survived               891 non-null    int64  \n",
      " 2   Pclass                 891 non-null    int64  \n",
      " 3   Sex                    891 non-null    object \n",
      " 4   Age                    714 non-null    float64\n",
      " 5   SibSp                  891 non-null    int64  \n",
      " 6   Parch                  891 non-null    int64  \n",
      " 7   Fare                   891 non-null    float64\n",
      " 8   Embarked               889 non-null    object \n",
      " 9   Name2                  891 non-null    object \n",
      " 10  TitleGroup             891 non-null    int32  \n",
      " 11  cabin_class            891 non-null    object \n",
      " 12  cabin_class_ismissing  891 non-null    bool   \n",
      "dtypes: bool(1), float64(2), int32(1), int64(5), object(4)\n",
      "memory usage: 81.0+ KB\n"
     ]
    }
   ],
   "source": [
    "replika_df.info()"
   ]
  },
  {
   "cell_type": "code",
   "execution_count": 35,
   "id": "4957a685-8f8b-4a54-b4cd-9b043c93daf6",
   "metadata": {},
   "outputs": [
    {
     "data": {
      "text/plain": [
       "pandas.core.series.Series"
      ]
     },
     "execution_count": 35,
     "metadata": {},
     "output_type": "execute_result"
    }
   ],
   "source": [
    "type(replika_df['Age'])"
   ]
  },
  {
   "cell_type": "code",
   "execution_count": 36,
   "id": "16ea557c-d1a8-4c3f-9402-dce712aff5ca",
   "metadata": {},
   "outputs": [],
   "source": [
    "# Let's convert to numeric value\n",
    "replika_df['Age'] = pd.to_numeric(replika_df['Age'], errors='coerce')"
   ]
  },
  {
   "cell_type": "code",
   "execution_count": 37,
   "id": "cd1861c0-a7ed-47db-b5d4-f01c0920c9f0",
   "metadata": {},
   "outputs": [
    {
     "data": {
      "text/html": [
       "<div>\n",
       "<style scoped>\n",
       "    .dataframe tbody tr th:only-of-type {\n",
       "        vertical-align: middle;\n",
       "    }\n",
       "\n",
       "    .dataframe tbody tr th {\n",
       "        vertical-align: top;\n",
       "    }\n",
       "\n",
       "    .dataframe thead th {\n",
       "        text-align: right;\n",
       "    }\n",
       "</style>\n",
       "<table border=\"1\" class=\"dataframe\">\n",
       "  <thead>\n",
       "    <tr style=\"text-align: right;\">\n",
       "      <th></th>\n",
       "      <th>PassengerId</th>\n",
       "      <th>Survived</th>\n",
       "      <th>Pclass</th>\n",
       "      <th>Sex</th>\n",
       "      <th>Age</th>\n",
       "      <th>SibSp</th>\n",
       "      <th>Parch</th>\n",
       "      <th>Fare</th>\n",
       "      <th>Embarked</th>\n",
       "      <th>Name2</th>\n",
       "      <th>TitleGroup</th>\n",
       "      <th>cabin_class</th>\n",
       "      <th>cabin_class_ismissing</th>\n",
       "    </tr>\n",
       "  </thead>\n",
       "  <tbody>\n",
       "    <tr>\n",
       "      <th>0</th>\n",
       "      <td>1</td>\n",
       "      <td>0</td>\n",
       "      <td>3</td>\n",
       "      <td>male</td>\n",
       "      <td>22.0</td>\n",
       "      <td>1</td>\n",
       "      <td>0</td>\n",
       "      <td>7.2500</td>\n",
       "      <td>S</td>\n",
       "      <td>Mr.</td>\n",
       "      <td>0</td>\n",
       "      <td>missing</td>\n",
       "      <td>True</td>\n",
       "    </tr>\n",
       "    <tr>\n",
       "      <th>1</th>\n",
       "      <td>2</td>\n",
       "      <td>1</td>\n",
       "      <td>1</td>\n",
       "      <td>female</td>\n",
       "      <td>38.0</td>\n",
       "      <td>1</td>\n",
       "      <td>0</td>\n",
       "      <td>71.2833</td>\n",
       "      <td>C</td>\n",
       "      <td>Mrs.</td>\n",
       "      <td>0</td>\n",
       "      <td>C</td>\n",
       "      <td>False</td>\n",
       "    </tr>\n",
       "    <tr>\n",
       "      <th>2</th>\n",
       "      <td>3</td>\n",
       "      <td>1</td>\n",
       "      <td>3</td>\n",
       "      <td>female</td>\n",
       "      <td>26.0</td>\n",
       "      <td>0</td>\n",
       "      <td>0</td>\n",
       "      <td>7.9250</td>\n",
       "      <td>S</td>\n",
       "      <td>Miss.</td>\n",
       "      <td>0</td>\n",
       "      <td>missing</td>\n",
       "      <td>True</td>\n",
       "    </tr>\n",
       "    <tr>\n",
       "      <th>3</th>\n",
       "      <td>4</td>\n",
       "      <td>1</td>\n",
       "      <td>1</td>\n",
       "      <td>female</td>\n",
       "      <td>35.0</td>\n",
       "      <td>1</td>\n",
       "      <td>0</td>\n",
       "      <td>53.1000</td>\n",
       "      <td>S</td>\n",
       "      <td>Mrs.</td>\n",
       "      <td>0</td>\n",
       "      <td>C</td>\n",
       "      <td>False</td>\n",
       "    </tr>\n",
       "    <tr>\n",
       "      <th>4</th>\n",
       "      <td>5</td>\n",
       "      <td>0</td>\n",
       "      <td>3</td>\n",
       "      <td>male</td>\n",
       "      <td>35.0</td>\n",
       "      <td>0</td>\n",
       "      <td>0</td>\n",
       "      <td>8.0500</td>\n",
       "      <td>S</td>\n",
       "      <td>Mr.</td>\n",
       "      <td>0</td>\n",
       "      <td>missing</td>\n",
       "      <td>True</td>\n",
       "    </tr>\n",
       "  </tbody>\n",
       "</table>\n",
       "</div>"
      ],
      "text/plain": [
       "   PassengerId  Survived  Pclass     Sex   Age  SibSp  Parch     Fare  \\\n",
       "0            1         0       3    male  22.0      1      0   7.2500   \n",
       "1            2         1       1  female  38.0      1      0  71.2833   \n",
       "2            3         1       3  female  26.0      0      0   7.9250   \n",
       "3            4         1       1  female  35.0      1      0  53.1000   \n",
       "4            5         0       3    male  35.0      0      0   8.0500   \n",
       "\n",
       "  Embarked  Name2  TitleGroup cabin_class  cabin_class_ismissing  \n",
       "0        S    Mr.           0     missing                   True  \n",
       "1        C   Mrs.           0           C                  False  \n",
       "2        S  Miss.           0     missing                   True  \n",
       "3        S   Mrs.           0           C                  False  \n",
       "4        S    Mr.           0     missing                   True  "
      ]
     },
     "execution_count": 37,
     "metadata": {},
     "output_type": "execute_result"
    }
   ],
   "source": [
    "replika_df.head()"
   ]
  },
  {
   "cell_type": "code",
   "execution_count": 38,
   "id": "8b743dc0-c4a1-464a-a63b-7d6617414702",
   "metadata": {},
   "outputs": [
    {
     "name": "stdout",
     "output_type": "stream",
     "text": [
      "<class 'pandas.core.frame.DataFrame'>\n",
      "RangeIndex: 891 entries, 0 to 890\n",
      "Data columns (total 13 columns):\n",
      " #   Column                 Non-Null Count  Dtype  \n",
      "---  ------                 --------------  -----  \n",
      " 0   PassengerId            891 non-null    int64  \n",
      " 1   Survived               891 non-null    int64  \n",
      " 2   Pclass                 891 non-null    int64  \n",
      " 3   Sex                    891 non-null    object \n",
      " 4   Age                    714 non-null    float64\n",
      " 5   SibSp                  891 non-null    int64  \n",
      " 6   Parch                  891 non-null    int64  \n",
      " 7   Fare                   891 non-null    float64\n",
      " 8   Embarked               889 non-null    object \n",
      " 9   Name2                  891 non-null    object \n",
      " 10  TitleGroup             891 non-null    int32  \n",
      " 11  cabin_class            891 non-null    object \n",
      " 12  cabin_class_ismissing  891 non-null    bool   \n",
      "dtypes: bool(1), float64(2), int32(1), int64(5), object(4)\n",
      "memory usage: 81.0+ KB\n"
     ]
    }
   ],
   "source": [
    "replika_df.info()"
   ]
  },
  {
   "cell_type": "code",
   "execution_count": 39,
   "id": "8d02b31f-e456-4dbd-8b44-7fb50aca5027",
   "metadata": {},
   "outputs": [],
   "source": [
    "mean = replika_df['Age'].mean()"
   ]
  },
  {
   "cell_type": "code",
   "execution_count": 40,
   "id": "9b6aba01-c44b-408b-ab8c-82e61562a8bc",
   "metadata": {},
   "outputs": [
    {
     "data": {
      "text/plain": [
       "29.69911764705882"
      ]
     },
     "execution_count": 40,
     "metadata": {},
     "output_type": "execute_result"
    }
   ],
   "source": [
    "mean"
   ]
  },
  {
   "cell_type": "code",
   "execution_count": 41,
   "id": "f9bbdaba-f54d-4308-973a-ddce39968f43",
   "metadata": {},
   "outputs": [],
   "source": [
    "# Let's fill the Age column\n",
    "replika_df['Age'] = replika_df['Age'].fillna(mean)"
   ]
  },
  {
   "cell_type": "markdown",
   "id": "810ef45e-c0e1-4a74-a2e7-e27a265c0663",
   "metadata": {},
   "source": [
    "### Converting bool and object to category"
   ]
  },
  {
   "cell_type": "code",
   "execution_count": 42,
   "id": "cdcb82c3-8b54-4eec-9111-16e76f61ea74",
   "metadata": {},
   "outputs": [],
   "source": [
    "for label in replika_df.keys():\n",
    "    if replika_df[label].dtype == object or replika_df[label].dtype == bool:\n",
    "        replika_df[label] = replika_df[label].astype('category').cat.as_ordered()    "
   ]
  },
  {
   "cell_type": "code",
   "execution_count": 43,
   "id": "0f11e7b5-5edc-4749-bdb7-c35d99bf9672",
   "metadata": {},
   "outputs": [
    {
     "name": "stdout",
     "output_type": "stream",
     "text": [
      "<class 'pandas.core.frame.DataFrame'>\n",
      "RangeIndex: 891 entries, 0 to 890\n",
      "Data columns (total 13 columns):\n",
      " #   Column                 Non-Null Count  Dtype   \n",
      "---  ------                 --------------  -----   \n",
      " 0   PassengerId            891 non-null    int64   \n",
      " 1   Survived               891 non-null    int64   \n",
      " 2   Pclass                 891 non-null    int64   \n",
      " 3   Sex                    891 non-null    category\n",
      " 4   Age                    891 non-null    float64 \n",
      " 5   SibSp                  891 non-null    int64   \n",
      " 6   Parch                  891 non-null    int64   \n",
      " 7   Fare                   891 non-null    float64 \n",
      " 8   Embarked               889 non-null    category\n",
      " 9   Name2                  891 non-null    category\n",
      " 10  TitleGroup             891 non-null    int32   \n",
      " 11  cabin_class            891 non-null    category\n",
      " 12  cabin_class_ismissing  891 non-null    category\n",
      "dtypes: category(5), float64(2), int32(1), int64(5)\n",
      "memory usage: 58.1 KB\n"
     ]
    }
   ],
   "source": [
    "replika_df.info()"
   ]
  },
  {
   "cell_type": "markdown",
   "id": "1b950875-a3dc-44da-925a-bb90a2ec25bc",
   "metadata": {},
   "source": [
    "### Converting categories to numerical value"
   ]
  },
  {
   "cell_type": "code",
   "execution_count": 44,
   "id": "77cbae12-011d-4314-9cd5-ea91305e1e88",
   "metadata": {},
   "outputs": [],
   "source": [
    "for label in df_original.keys():\n",
    "    if replika_df[label].dtype == 'category':\n",
    "        replika_df[label] = replika_df[label].cat.codes"
   ]
  },
  {
   "cell_type": "code",
   "execution_count": 45,
   "id": "4c38e229-69c4-4d32-a22b-7a1a9430fdc2",
   "metadata": {},
   "outputs": [
    {
     "name": "stdout",
     "output_type": "stream",
     "text": [
      "<class 'pandas.core.frame.DataFrame'>\n",
      "RangeIndex: 891 entries, 0 to 890\n",
      "Data columns (total 13 columns):\n",
      " #   Column                 Non-Null Count  Dtype  \n",
      "---  ------                 --------------  -----  \n",
      " 0   PassengerId            891 non-null    int64  \n",
      " 1   Survived               891 non-null    int64  \n",
      " 2   Pclass                 891 non-null    int64  \n",
      " 3   Sex                    891 non-null    int8   \n",
      " 4   Age                    891 non-null    float64\n",
      " 5   SibSp                  891 non-null    int64  \n",
      " 6   Parch                  891 non-null    int64  \n",
      " 7   Fare                   891 non-null    float64\n",
      " 8   Embarked               891 non-null    int8   \n",
      " 9   Name2                  891 non-null    int8   \n",
      " 10  TitleGroup             891 non-null    int32  \n",
      " 11  cabin_class            891 non-null    int8   \n",
      " 12  cabin_class_ismissing  891 non-null    int8   \n",
      "dtypes: float64(2), int32(1), int64(5), int8(5)\n",
      "memory usage: 56.7 KB\n"
     ]
    }
   ],
   "source": [
    "replika_df.info()"
   ]
  },
  {
   "cell_type": "markdown",
   "id": "89f8c2e6-2ded-4f28-8631-52fd2c426aa1",
   "metadata": {},
   "source": [
    "## Modelling \n",
    "\n",
    "try to look which models best suits for this data"
   ]
  },
  {
   "cell_type": "code",
   "execution_count": 46,
   "id": "36bb532a-681d-41a0-aea5-d8e77f984016",
   "metadata": {},
   "outputs": [],
   "source": [
    "from sklearn.linear_model import LogisticRegression\n",
    "from sklearn.tree import DecisionTreeClassifier\n",
    "from sklearn.ensemble import RandomForestClassifier\n",
    "from sklearn.svm import SVC\n",
    "from sklearn.neighbors import KNeighborsClassifier\n",
    "from sklearn.naive_bayes import GaussianNB\n",
    "\n",
    "\n",
    "models = {'LogisticRegression': LogisticRegression(),\n",
    "          'DecisionTreeClassifier': DecisionTreeClassifier(),\n",
    "          'RandomForestClassifier': RandomForestClassifier(),\n",
    "          'SVC': SVC(),\n",
    "          'KNeighborsClassifier': KNeighborsClassifier(),\n",
    "          'GaussianNB': GaussianNB()}"
   ]
  },
  {
   "cell_type": "code",
   "execution_count": 47,
   "id": "0885b301-7985-48a0-bd7a-92998965e612",
   "metadata": {},
   "outputs": [
    {
     "data": {
      "text/plain": [
       "((712, 12), (179, 12), (712,), (179,))"
      ]
     },
     "execution_count": 47,
     "metadata": {},
     "output_type": "execute_result"
    }
   ],
   "source": [
    "# Let's divide the our data into two parts for evaluation.\n",
    "from sklearn.model_selection import train_test_split\n",
    "\n",
    "X = replika_df.drop('Survived', axis=1)\n",
    "y = replika_df.Survived\n",
    "\n",
    "X_train, X_test, y_train, y_test = train_test_split(X , y,test_size=0.2, random_state=42)\n",
    "X_train.shape, X_test.shape, y_train.shape, y_test.shape"
   ]
  },
  {
   "cell_type": "code",
   "execution_count": null,
   "id": "1a0f7848-2825-4fb9-9f2d-3e9db2fde629",
   "metadata": {},
   "outputs": [],
   "source": []
  },
  {
   "cell_type": "code",
   "execution_count": null,
   "id": "f38e4cd0-a4da-4d23-a3b7-752971c7aea3",
   "metadata": {},
   "outputs": [],
   "source": []
  }
 ],
 "metadata": {
  "kernelspec": {
   "display_name": "Python 3 (ipykernel)",
   "language": "python",
   "name": "python3"
  },
  "language_info": {
   "codemirror_mode": {
    "name": "ipython",
    "version": 3
   },
   "file_extension": ".py",
   "mimetype": "text/x-python",
   "name": "python",
   "nbconvert_exporter": "python",
   "pygments_lexer": "ipython3",
   "version": "3.12.4"
  }
 },
 "nbformat": 4,
 "nbformat_minor": 5
}
